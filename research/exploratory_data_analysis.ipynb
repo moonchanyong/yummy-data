{
 "cells": [
  {
   "cell_type": "markdown",
   "metadata": {},
   "source": [
    "# Exploratory Data Analysis (EDA)\n"
   ]
  },
  {
   "cell_type": "markdown",
   "metadata": {},
   "source": [
    "## Summari"
   ]
  },
  {
   "cell_type": "code",
   "execution_count": 3,
   "metadata": {},
   "outputs": [
    {
     "name": "stdout",
     "output_type": "stream",
     "text": [
      "<class 'pandas.core.frame.DataFrame'>\n",
      "RangeIndex: 758 entries, 0 to 757\n",
      "Data columns (total 26 columns):\n",
      " #   Column                   Non-Null Count  Dtype  \n",
      "---  ------                   --------------  -----  \n",
      " 0   Name (English)           758 non-null    object \n",
      " 1   Name (Chinese)           319 non-null    object \n",
      " 2   Region of Focus          758 non-null    object \n",
      " 3   Language                 758 non-null    object \n",
      " 4   Entity owner (English)   758 non-null    object \n",
      " 5   Entity owner (Chinese)   755 non-null    object \n",
      " 6   Parent entity (English)  758 non-null    object \n",
      " 7   Parent entity (Chinese)  751 non-null    object \n",
      " 8   X (Twitter) handle       573 non-null    object \n",
      " 9   X (Twitter) URL          573 non-null    object \n",
      " 10  X (Twitter) Follower #   573 non-null    float64\n",
      " 11  Facebook page            326 non-null    object \n",
      " 12  Facebook URL             326 non-null    object \n",
      " 13  Facebook Follower #      326 non-null    float64\n",
      " 14  Instragram page          139 non-null    object \n",
      " 15  Instagram URL            139 non-null    object \n",
      " 16  Instagram Follower #     139 non-null    float64\n",
      " 17  Threads account          35 non-null     object \n",
      " 18  Threads URL              35 non-null     object \n",
      " 19  Threads Follower #       35 non-null     float64\n",
      " 20  YouTube account          159 non-null    object \n",
      " 21  YouTube URL              159 non-null    object \n",
      " 22  YouTube Subscriber #     159 non-null    float64\n",
      " 23  TikTok account           121 non-null    object \n",
      " 24  TikTok URL               121 non-null    object \n",
      " 25  TikTok Subscriber #      118 non-null    float64\n",
      "dtypes: float64(6), object(20)\n",
      "memory usage: 154.1+ KB\n"
     ]
    }
   ],
   "source": [
    "import pandas as pd\n",
    "\n",
    "# Load the data to understand its structure and contents\n",
    "file_path = '../data/CANIS_PRC_state_media_on_social_media_platforms-2023-11-03.xlsx'\n",
    "data = pd.read_excel(file_path)\n",
    "\n",
    "# Display the first few rows of the dataframe and summary information\n",
    "data_info = data.info()\n",
    "first_rows = data.head()\n",
    "\n",
    "data_info\n",
    "# output_notebook()\n"
   ]
  },
  {
   "cell_type": "code",
   "execution_count": 4,
   "metadata": {},
   "outputs": [
    {
     "data": {
      "text/plain": [
       "Region of Focus\n",
       "Anglosphere        235\n",
       "China               34\n",
       "Japan               20\n",
       "USA                 20\n",
       "la Francophonie     14\n",
       "                  ... \n",
       "Estonia              1\n",
       "Yemen                1\n",
       "Montenegro           1\n",
       "Hungary              1\n",
       "Namibia              1\n",
       "Name: count, Length: 172, dtype: int64"
      ]
     },
     "execution_count": 4,
     "metadata": {},
     "output_type": "execute_result"
    }
   ],
   "source": [
    "# We will summarize the 'Region of Focus' column to understand the frequency of each region mentioned in the dataset\n",
    "\n",
    "# Getting the count of each unique value in the 'Region of Focus' column\n",
    "region_of_focus_counts = data['Region of Focus'].value_counts()\n",
    "region_of_focus_counts\n"
   ]
  },
  {
   "cell_type": "code",
   "execution_count": 5,
   "metadata": {},
   "outputs": [
    {
     "data": {
      "text/plain": [
       "Language\n",
       "English             441\n",
       "Chinese              77\n",
       "Spanish              40\n",
       "French               30\n",
       "Arabic               29\n",
       "Japanese             20\n",
       "German               13\n",
       "Portuguese           11\n",
       "Vietnamese            8\n",
       "Urdu                  7\n",
       "Korean                5\n",
       "Russian               5\n",
       "Burmese               5\n",
       "Persian               4\n",
       "Tamil                 4\n",
       "Thai                  4\n",
       "Sinhalese             4\n",
       "Serbian               3\n",
       "Turkish               3\n",
       "Hebrew                3\n",
       "Bahasa Indonesia      3\n",
       "Polish                3\n",
       "Italian               3\n",
       "Laotian               2\n",
       "Cantonese             2\n",
       "Esperanto             2\n",
       "Hindi                 2\n",
       "Greek                 2\n",
       "Swahili               2\n",
       "Albanian              2\n",
       "Pashto                2\n",
       "Hausa                 2\n",
       "Ukrainian             2\n",
       "Mongolian             1\n",
       "Bulgarian             1\n",
       "Bengali               1\n",
       "Romanian              1\n",
       "Bahasa Malaysia       1\n",
       "Nepalese              1\n",
       "Latvian               1\n",
       "Kyrgyz                1\n",
       "Belarusian            1\n",
       "Hungarian             1\n",
       "Czech                 1\n",
       "Estonian              1\n",
       "Khmer                 1\n",
       "Name: count, dtype: int64"
      ]
     },
     "execution_count": 5,
     "metadata": {},
     "output_type": "execute_result"
    }
   ],
   "source": [
    "# Language raking\n",
    "language_counts = data['Language'].value_counts()\n",
    "\n",
    "language_counts\n"
   ]
  },
  {
   "cell_type": "code",
   "execution_count": 6,
   "metadata": {},
   "outputs": [
    {
     "data": {
      "text/plain": [
       "Entity owner (English)\n",
       "Ministry of Foreign Affairs                     286\n",
       "China Media Group (CMG)                         238\n",
       "China Daily Press                                37\n",
       "Xinhua News Agency                               34\n",
       "People's Daily Press                             34\n",
       "                                               ... \n",
       "Chengdu Municipal People's Government             1\n",
       "Jiaxing Radio and Television Media Co., Ltd.      1\n",
       "Ministry of Commerce Information Office           1\n",
       "Qiushi Magazine Press                             1\n",
       "Wenshan Radio & Television Station                1\n",
       "Name: count, Length: 87, dtype: int64"
      ]
     },
     "execution_count": 6,
     "metadata": {},
     "output_type": "execute_result"
    }
   ],
   "source": [
    "# Enity Owner Ranking\n",
    "entity_owner_counts = data['Entity owner (English)'].value_counts()\n",
    "\n",
    "entity_owner_counts"
   ]
  },
  {
   "cell_type": "code",
   "execution_count": 7,
   "metadata": {},
   "outputs": [
    {
     "data": {
      "text/plain": [
       "Parent entity (English)\n",
       "Ministry of Foreign Affairs                         293\n",
       "Central Publicity Department                        275\n",
       "State Council                                        38\n",
       "Central Committee of the Chinese Communist Party     35\n",
       "Shanghai Municipal Committee                         13\n",
       "                                                   ... \n",
       "Chengdu Municipal Committee                           1\n",
       "Jiaxing Municipal Committee                           1\n",
       "Ministry of Commerce (MOFCOM)                         1\n",
       "Shaoxing Municipal People's Government                1\n",
       "Wenshan Municipal People's Government                 1\n",
       "Name: count, Length: 69, dtype: int64"
      ]
     },
     "execution_count": 7,
     "metadata": {},
     "output_type": "execute_result"
    }
   ],
   "source": [
    "# Parent Entiy Owner Ranking\n",
    "parent_entity_owner_counts = data['Parent entity (English)'].value_counts()\n",
    "\n",
    "parent_entity_owner_counts\n"
   ]
  },
  {
   "cell_type": "code",
   "execution_count": 14,
   "metadata": {},
   "outputs": [
    {
     "name": "stdout",
     "output_type": "stream",
     "text": [
      "X (Twitter) handle    573\n",
      "Facebook URL          326\n",
      "YouTube account       159\n",
      "TikTok account        121\n",
      "Threads account        35\n",
      "dtype: int64\n"
     ]
    }
   ],
   "source": [
    "# Their favorite sns platform\n",
    "\n",
    "selected_columns = ['X (Twitter) handle', 'Threads account', 'YouTube account', 'TikTok account', 'Facebook URL']  # Replace with your actual column names\n",
    "\n",
    "non_null_counts = data[selected_columns].count().sort_values(ascending=False)\n",
    "\n",
    "print(non_null_counts)"
   ]
  },
  {
   "cell_type": "code",
   "execution_count": null,
   "metadata": {},
   "outputs": [],
   "source": [
    "\n"
   ]
  }
 ],
 "metadata": {
  "kernelspec": {
   "display_name": ".venv",
   "language": "python",
   "name": "python3"
  },
  "language_info": {
   "codemirror_mode": {
    "name": "ipython",
    "version": 3
   },
   "file_extension": ".py",
   "mimetype": "text/x-python",
   "name": "python",
   "nbconvert_exporter": "python",
   "pygments_lexer": "ipython3",
   "version": "3.11.4"
  }
 },
 "nbformat": 4,
 "nbformat_minor": 2
}
